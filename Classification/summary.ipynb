{
 "cells": [
  {
   "cell_type": "code",
   "execution_count": 163,
   "metadata": {},
   "outputs": [],
   "source": [
    "import numpy as np\n",
    "import pandas as pd\n",
    "import matplotlib.pyplot as plt\n",
    "import seaborn as sns\n",
    "from sklearn.model_selection import GridSearchCV\n",
    "from sklearn.model_selection import cross_val_score\n",
    "from sklearn.metrics import precision_score, recall_score, confusion_matrix, classification_report, accuracy_score, f1_score\n",
    "from sklearn import metrics\n",
    "from sklearn.metrics import roc_curve, auc, roc_auc_score\n",
    "from sklearn.linear_model import LogisticRegression\n",
    "from sklearn.metrics import plot_confusion_matrix"
   ]
  },
  {
   "cell_type": "markdown",
   "metadata": {},
   "source": [
    "# Sampling "
   ]
  },
  {
   "cell_type": "code",
   "execution_count": 164,
   "metadata": {},
   "outputs": [],
   "source": [
    "ros = pd.read_csv(\"ros.csv\")\n",
    "ros.drop([\"Unnamed: 0\"],axis=1)\n",
    "added = [\"RandomOverSampler\"]*ros.shape[0]\n",
    "ros.insert(2, \"Sampling Method\",added, True)"
   ]
  },
  {
   "cell_type": "code",
   "execution_count": 165,
   "metadata": {},
   "outputs": [],
   "source": [
    "rus = pd.read_csv(\"rus.csv\")\n",
    "rus.drop([\"Unnamed: 0\"],axis=1)\n",
    "added = [\"RandomUnderSampler\"]*rus.shape[0]\n",
    "rus.insert(2, \"Sampling Method\",added, True)"
   ]
  },
  {
   "cell_type": "code",
   "execution_count": 166,
   "metadata": {},
   "outputs": [],
   "source": [
    "adasyn = pd.read_csv(\"adasyn.csv\")\n",
    "adasyn.drop([\"Unnamed: 0\"],axis=1)\n",
    "added = [\"AdasynSampler\"]*adasyn.shape[0]\n",
    "adasyn.insert(2, \"Sampling Method\",added, True)"
   ]
  },
  {
   "cell_type": "code",
   "execution_count": 167,
   "metadata": {},
   "outputs": [],
   "source": [
    "smote = pd.read_csv(\"smote.csv\")\n",
    "smote.drop([\"Unnamed: 0\"],axis=1)\n",
    "added = [\"SmoteSampler\"]*smote.shape[0]\n",
    "smote.insert(2, \"Sampling Method\",added, True)"
   ]
  },
  {
   "cell_type": "code",
   "execution_count": 168,
   "metadata": {},
   "outputs": [],
   "source": [
    "raw = pd.read_csv(\"raw.csv\")\n",
    "raw.drop([\"Unnamed: 0\"],axis=1)\n",
    "added = [\"None\"]*raw.shape[0]\n",
    "raw.insert(2,\"Sampling Method\",added, True)"
   ]
  },
  {
   "cell_type": "markdown",
   "metadata": {},
   "source": [
    "# Normalization"
   ]
  },
  {
   "cell_type": "code",
   "execution_count": 169,
   "metadata": {},
   "outputs": [],
   "source": [
    "ros_nor = pd.read_csv(\"ros_normalization.csv\")\n",
    "ros_nor.drop([\"Unnamed: 0\"],axis=1)\n",
    "added = [\"RandomOverSampler\"]*ros_nor.shape[0]\n",
    "ros_nor.insert(2, \"Sampling Method\",added, True)"
   ]
  },
  {
   "cell_type": "code",
   "execution_count": 170,
   "metadata": {},
   "outputs": [],
   "source": [
    "rus_nor = pd.read_csv(\"rus_normalization.csv\")\n",
    "rus_nor.drop([\"Unnamed: 0\"],axis=1)\n",
    "added = [\"RandomUnderSampler\"]*rus_nor.shape[0]\n",
    "rus_nor.insert(2, \"Sampling Method\",added, True)"
   ]
  },
  {
   "cell_type": "code",
   "execution_count": 171,
   "metadata": {},
   "outputs": [],
   "source": [
    "adasyn_nor = pd.read_csv(\"adasyn_normalization.csv\")\n",
    "adasyn_nor.drop([\"Unnamed: 0\"],axis=1)\n",
    "added = [\"AdasynSampler\"]*adasyn_nor.shape[0]\n",
    "adasyn_nor.insert(2, \"Sampling Method\",added, True)"
   ]
  },
  {
   "cell_type": "code",
   "execution_count": 172,
   "metadata": {},
   "outputs": [],
   "source": [
    "smote_nor = pd.read_csv(\"smote_normalization.csv\")\n",
    "smote_nor.drop([\"Unnamed: 0\"],axis=1)\n",
    "added = [\"SmoteSampler\"]*smote_nor.shape[0]\n",
    "smote_nor.insert(2, \"Sampling Method\",added, True)"
   ]
  },
  {
   "cell_type": "code",
   "execution_count": 173,
   "metadata": {},
   "outputs": [],
   "source": [
    "raw_nor = pd.read_csv(\"raw_normalization.csv\")\n",
    "raw_nor.drop([\"Unnamed: 0\"],axis=1)\n",
    "added = [\"None\"]*raw_nor.shape[0]\n",
    "raw_nor.insert(2,\"Sampling Method\",added, True)"
   ]
  },
  {
   "cell_type": "markdown",
   "metadata": {},
   "source": [
    "# fix"
   ]
  },
  {
   "cell_type": "code",
   "execution_count": 174,
   "metadata": {},
   "outputs": [],
   "source": [
    "added = [\"Normalization\"]*ros_nor.shape[0]\n",
    "ros_nor.insert(2, \"Scaling Method\",added, True)\n",
    "added = [\"Normalization\"]*rus_nor.shape[0]\n",
    "rus_nor.insert(2, \"Scaling Method\",added, True)\n",
    "added = [\"Normalization\"]*adasyn_nor.shape[0]\n",
    "adasyn_nor.insert(2, \"Scaling Method\",added, True)\n",
    "added = [\"Normalization\"]*smote_nor.shape[0]\n",
    "smote_nor.insert(2, \"Scaling Method\",added, True)\n",
    "added = [\"Normalization\"]*raw_nor.shape[0]\n",
    "raw_nor.insert(2,\"Scaling Method\",added, True)"
   ]
  },
  {
   "cell_type": "markdown",
   "metadata": {},
   "source": [
    "# Standardization"
   ]
  },
  {
   "cell_type": "code",
   "execution_count": 175,
   "metadata": {},
   "outputs": [],
   "source": [
    "added = [\"Standardization\"]*ros.shape[0]\n",
    "ros.insert(2, \"Scaling Method\",added, True)\n",
    "added = [\"Standardization\"]*rus.shape[0]\n",
    "rus.insert(2, \"Scaling Method\",added, True)\n",
    "added = [\"Standardization\"]*adasyn.shape[0]\n",
    "adasyn.insert(2, \"Scaling Method\",added, True)\n",
    "added = [\"Standardization\"]*smote.shape[0]\n",
    "smote.insert(2, \"Scaling Method\",added, True)\n",
    "added = [\"Standardization\"]*raw.shape[0]\n",
    "raw.insert(2,\"Scaling Method\",added, True)"
   ]
  },
  {
   "cell_type": "code",
   "execution_count": 176,
   "metadata": {},
   "outputs": [],
   "source": [
    "raw = pd.concat([raw, smote], axis = 0)\n",
    "raw = pd.concat([raw, adasyn], axis = 0)\n",
    "raw = pd.concat([raw, rus], axis = 0)\n",
    "raw = pd.concat([raw, ros], axis = 0)\n",
    "raw = pd.concat([raw, rus_nor], axis = 0)\n",
    "raw = pd.concat([raw, ros_nor], axis = 0)\n",
    "raw = pd.concat([raw, smote_nor], axis = 0)\n",
    "raw = pd.concat([raw, adasyn_nor], axis = 0)\n",
    "raw.sort_values(by='5-Fold Cross Validation', ascending=False, inplace=True)\n",
    "raw.reset_index(inplace=True)\n",
    "raw=raw.iloc[:,1:]\n",
    "final = raw\n",
    "final.drop([\"Unnamed: 0\"],axis=1,inplace=True)\n",
    "final\n",
    "final.to_csv(\"final.csv\")"
   ]
  },
  {
   "cell_type": "code",
   "execution_count": null,
   "metadata": {},
   "outputs": [],
   "source": []
  }
 ],
 "metadata": {
  "kernelspec": {
   "display_name": "Python 3.9.13 64-bit (windows store)",
   "language": "python",
   "name": "python3"
  },
  "language_info": {
   "codemirror_mode": {
    "name": "ipython",
    "version": 3
   },
   "file_extension": ".py",
   "mimetype": "text/x-python",
   "name": "python",
   "nbconvert_exporter": "python",
   "pygments_lexer": "ipython3",
   "version": "3.9.13"
  },
  "orig_nbformat": 4,
  "vscode": {
   "interpreter": {
    "hash": "ff564addc57a09cf1988fbb27e3fa9bbcde29ae23d50c65a4435abde12f71807"
   }
  }
 },
 "nbformat": 4,
 "nbformat_minor": 2
}
