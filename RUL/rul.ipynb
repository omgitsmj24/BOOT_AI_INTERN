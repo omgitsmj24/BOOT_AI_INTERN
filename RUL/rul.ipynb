{
 "cells": [
  {
   "cell_type": "code",
   "execution_count": null,
   "metadata": {},
   "outputs": [],
   "source": []
  }
 ],
 "metadata": {
  "kernelspec": {
   "display_name": "Python 3.9.13 64-bit (microsoft store)",
   "language": "python",
   "name": "python3"
  },
  "language_info": {
   "name": "python",
   "version": "3.9.13"
  },
  "orig_nbformat": 4,
  "vscode": {
   "interpreter": {
    "hash": "ff564addc57a09cf1988fbb27e3fa9bbcde29ae23d50c65a4435abde12f71807"
   }
  }
 },
 "nbformat": 4,
 "nbformat_minor": 2
}
